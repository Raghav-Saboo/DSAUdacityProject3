{
 "cells": [
  {
   "cell_type": "markdown",
   "metadata": {},
   "source": [
    "# Building a Trie in Python\n",
    "\n",
    "Before we start let us reiterate the key components of a Trie or Prefix Tree. A trie is a tree-like data structure that stores a dynamic set of strings. Tries are commonly used to facilitate operations like predictive text or autocomplete features on mobile phones or web search.\n",
    "\n",
    "Before we move into the autocomplete function we need to create a working trie for storing strings.  We will create two classes:\n",
    "* A `Trie` class that contains the root node (empty string)\n",
    "* A `TrieNode` class that exposes the general functionality of the Trie, like inserting a word or finding the node which represents a prefix.\n",
    "\n",
    "Give it a try by implementing the `TrieNode` and `Trie` classes below!"
   ]
  },
  {
   "cell_type": "code",
   "execution_count": 1,
   "metadata": {
    "collapsed": true
   },
   "outputs": [
    {
     "ename": "IndentationError",
     "evalue": "expected an indented block (168687215.py, line 7)",
     "output_type": "error",
     "traceback": [
      "\u001B[0;36m  File \u001B[0;32m\"/var/folders/p7/s517d3413kn_9y3tg8516smr00vh78/T/ipykernel_69710/168687215.py\"\u001B[0;36m, line \u001B[0;32m7\u001B[0m\n\u001B[0;31m    def insert(self, char):\u001B[0m\n\u001B[0m    ^\u001B[0m\n\u001B[0;31mIndentationError\u001B[0m\u001B[0;31m:\u001B[0m expected an indented block\n"
     ]
    }
   ],
   "source": [
    "## Represents a single node in the Trie\n",
    "class TrieNode:\n",
    "  def __init__(self):\n",
    "    self.is_word = False\n",
    "    self.children = {}\n",
    "\n",
    "  def insert(self, char):\n",
    "    ## Add a child node in this Trie\n",
    "    if char not in self.children:\n",
    "      self.children[char] = TrieNode()\n",
    "\n",
    "\n",
    "## Add a child node in this Trie\n",
    "\n",
    "\n",
    "## The Trie itself containing the root node and insert/find functions\n",
    "class Trie:\n",
    "  def __init__(self):\n",
    "    self.root = TrieNode()\n",
    "\n",
    "  ## Initialize this Trie (add a root node)\n",
    "\n",
    "  def insert(self, word):\n",
    "    node = self.root\n",
    "    for char in word:\n",
    "      if char not in node.children:\n",
    "        node.children[char] = TrieNode()\n",
    "      node = node.children[char]\n",
    "    node.is_word = True\n",
    "\n",
    "  ## Add a word to the Trie\n",
    "\n",
    "  def find(self, prefix):\n",
    "    node = self.root\n",
    "    for char in prefix:\n",
    "      if char not in node.children:\n",
    "        return None\n",
    "      node = node.children[char]\n",
    "    return node\n",
    "\n",
    "## Find the Trie node that represents this prefix\n"
   ]
  },
  {
   "cell_type": "markdown",
   "metadata": {},
   "source": [
    "# Finding Suffixes\n",
    "\n",
    "Now that we have a functioning Trie, we need to add the ability to list suffixes to implement our autocomplete feature.  To do that, we need to implement a new function on the `TrieNode` object that will return all complete word suffixes that exist below it in the trie.  For example, if our Trie contains the words `[\"fun\", \"function\", \"factory\"]` and we ask for suffixes from the `f` node, we would expect to receive `[\"un\", \"unction\", \"actory\"]` back from `node.suffixes()`.\n",
    "\n",
    "Using the code you wrote for the `TrieNode` above, try to add the suffixes function below. (Hint: recurse down the trie, collecting suffixes as you go.)"
   ]
  },
  {
   "cell_type": "code",
   "execution_count": null,
   "metadata": {
    "collapsed": true
   },
   "outputs": [],
   "source": [
    "class TrieNode:\n",
    "  def __init__(self):\n",
    "    self.is_word = False\n",
    "    self.children = {}\n",
    "\n",
    "  def insert(self, char):\n",
    "    ## Add a child node in this Trie\n",
    "    if char not in self.children:\n",
    "      self.children[char] = TrieNode()\n",
    "\n",
    "  def suffixes(self, suffix=''):\n",
    "    sarr = []\n",
    "    if self.is_word and len(suffix) > 0:\n",
    "      sarr.append(suffix)\n",
    "    for children in self.children:\n",
    "      sarr.extend(self.children[children].suffixes(suffix + children))\n",
    "    return sarr\n",
    "\n",
    "## Recursive function that collects the suffix for\n",
    "## all complete words below this point\n"
   ]
  },
  {
   "cell_type": "markdown",
   "metadata": {},
   "source": [
    "# Testing it all out\n",
    "\n",
    "Run the following code to add some words to your trie and then use the interactive search box to see what your code returns."
   ]
  },
  {
   "cell_type": "code",
   "execution_count": null,
   "metadata": {
    "collapsed": true
   },
   "outputs": [],
   "source": [
    "MyTrie = Trie()\n",
    "wordList = [\n",
    "    \"ant\", \"anthology\", \"antagonist\", \"antonym\",\n",
    "    \"fun\", \"function\", \"factory\",\n",
    "    \"trie\", \"trigger\", \"trigonometry\", \"tripod\"\n",
    "]\n",
    "for word in wordList:\n",
    "  MyTrie.insert(word)"
   ]
  },
  {
   "cell_type": "code",
   "execution_count": null,
   "metadata": {
    "collapsed": true
   },
   "outputs": [],
   "source": [
    "from ipywidgets import widgets\n",
    "from IPython.display import display\n",
    "from ipywidgets import interact\n",
    "\n",
    "\n",
    "def f(prefix):\n",
    "  if prefix != '':\n",
    "    prefixNode = MyTrie.find(prefix)\n",
    "    if prefixNode:\n",
    "      print('\\n'.join(prefixNode.suffixes()))\n",
    "    else:\n",
    "      print(prefix + \" not found\")\n",
    "  else:\n",
    "    print('')\n",
    "\n",
    "\n",
    "interact(f, prefix='');"
   ]
  }
 ],
 "metadata": {
  "kernelspec": {
   "display_name": "Python 3 (ipykernel)",
   "language": "python",
   "name": "python3"
  },
  "language_info": {
   "codemirror_mode": {
    "name": "ipython",
    "version": 3
   },
   "file_extension": ".py",
   "mimetype": "text/x-python",
   "name": "python",
   "nbconvert_exporter": "python",
   "pygments_lexer": "ipython3",
   "version": "3.8.9"
  },
  "widgets": {
   "state": {},
   "version": "1.1.2"
  }
 },
 "nbformat": 4,
 "nbformat_minor": 2
}